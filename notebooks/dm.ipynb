{
 "cells": [
  {
   "metadata": {},
   "cell_type": "code",
   "outputs": [],
   "execution_count": null,
   "source": [
    "%load_ext autoreload\n",
    "%autoreload 2"
   ],
   "id": "9df3d9578b75689"
  },
  {
   "metadata": {},
   "cell_type": "code",
   "outputs": [],
   "execution_count": null,
   "source": "import yfinance as yf",
   "id": "e49320af262a6552"
  },
  {
   "metadata": {},
   "cell_type": "code",
   "outputs": [],
   "execution_count": null,
   "source": [
    "from db.schemas import JobBase\n",
    "import dual_momentum as dm\n",
    "\n",
    "job = JobBase(\n",
    "    start_year=2016,\n",
    "    start_month=1,\n",
    "    end_year=2025,\n",
    "    end_month=6,\n",
    "    tickers='SPY,VEU',\n",
    "    safe_asset='AGG',\n",
    "    initial_investment=10_000,\n",
    "    rebalance_period=1,\n",
    "    lookback_period=12,\n",
    "    switching_cost=0,\n",
    "    user='notebook',\n",
    ")\n",
    "\n",
    "portfolio, trades, ticker_info = dm.dual_momentum(job)\n",
    "portfolio"
   ],
   "id": "3282152d83a99c57"
  },
  {
   "metadata": {},
   "cell_type": "code",
   "outputs": [],
   "execution_count": null,
   "source": "trades",
   "id": "6612fdd2e95e1184"
  },
  {
   "metadata": {},
   "cell_type": "code",
   "outputs": [],
   "execution_count": null,
   "source": [
    "ticker = yf.Ticker('VBMFX').history(period='max')\n",
    "ticker"
   ],
   "id": "c233a43a63f79831"
  }
 ],
 "metadata": {
  "kernelspec": {
   "display_name": "Python 3",
   "language": "python",
   "name": "python3"
  },
  "language_info": {
   "codemirror_mode": {
    "name": "ipython",
    "version": 2
   },
   "file_extension": ".py",
   "mimetype": "text/x-python",
   "name": "python",
   "nbconvert_exporter": "python",
   "pygments_lexer": "ipython2",
   "version": "2.7.6"
  }
 },
 "nbformat": 4,
 "nbformat_minor": 5
}
